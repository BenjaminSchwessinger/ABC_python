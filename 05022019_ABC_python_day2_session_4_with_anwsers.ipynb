{
 "cells": [
  {
   "cell_type": "markdown",
   "metadata": {},
   "source": [
    "# Running and Quitting"
   ]
  },
  {
   "cell_type": "markdown",
   "metadata": {},
   "source": [
    "#### Questions you should be able to answer after this session\n",
    "* How can I run a Python program and Jupyter!"
   ]
  },
  {
   "cell_type": "markdown",
   "metadata": {},
   "source": [
    "#### Objectives\n",
    "* Launch the Jupyter Notebook, create new notebooks, and exit the Notebook.\n",
    "* Create Markdown cells in a notebook.\n",
    "* Create and run Python cells in a notebook."
   ]
  },
  {
   "cell_type": "markdown",
   "metadata": {},
   "source": [
    "#### Difference in file extensions\n",
    "* python programs are in plain text and by convention end in **.py**\n",
    "* in the following session and tomorrow afternoon we will use [jupyter notebook](https://jupyter.org/) as it nice to interact with python interactively and for mixing code with comments + figures as shown here.\n",
    "* jupyter notebook comes within the [Anaconda](http://docs.continuum.io/anaconda/install/) package manager so you should be good to go "
   ]
  },
  {
   "cell_type": "markdown",
   "metadata": {},
   "source": [
    "You can now start the notebook with moving to you home directory in your Terminal\n",
    "\n",
    "For windows:  \n",
    "Open Command Prompt from the Run Box. Press Windows+R to open “Run” box. Type “cmd” and then click “OK” to open a regular Command Prompt. Type “cmd” and then press Ctrl+Shift+Enter to open an administrator Command Prompt. More here: https://www.howtogeek.com/235101/10-ways-to-open-the-command-prompt-in-windows-10/\n",
    "\n",
    "For Mac:  \n",
    "Application -> Terminal"
   ]
  },
  {
   "cell_type": "markdown",
   "metadata": {},
   "source": []
  },
  {
   "cell_type": "raw",
   "metadata": {},
   "source": [
    "$ jupyter notebook"
   ]
  },
  {
   "cell_type": "code",
   "execution_count": null,
   "metadata": {},
   "outputs": [],
   "source": []
  }
 ],
 "metadata": {
  "kernelspec": {
   "display_name": "Python 3",
   "language": "python",
   "name": "python3"
  },
  "language_info": {
   "codemirror_mode": {
    "name": "ipython",
    "version": 3
   },
   "file_extension": ".py",
   "mimetype": "text/x-python",
   "name": "python",
   "nbconvert_exporter": "python",
   "pygments_lexer": "ipython3",
   "version": "3.7.1"
  }
 },
 "nbformat": 4,
 "nbformat_minor": 2
}
