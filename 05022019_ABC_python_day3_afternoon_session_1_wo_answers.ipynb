{
 "cells": [
  {
   "cell_type": "markdown",
   "metadata": {},
   "source": [
    "## This material is adjusted from Software carpentry, Clare Sloggett, and  can be found here.  \n",
    "http://swcarpentry.github.io/python-novice-gapminder/  \n",
    "https://github.com/aspp-apac/2019-data-tidying-and-visualisation"
   ]
  },
  {
   "cell_type": "markdown",
   "metadata": {},
   "source": [
    "# Plotting with matplotlib"
   ]
  },
  {
   "cell_type": "markdown",
   "metadata": {},
   "source": [
    "#### Questions you should be able to answer after this session\n",
    "* How can I plot my data?\n",
    "\n",
    "* How can I save my plot for publishing?\n"
   ]
  },
  {
   "cell_type": "markdown",
   "metadata": {},
   "source": [
    "#### Objectives\n",
    "* Create a time series plot showing a single data set.\n",
    "\n",
    "* Create a scatter plot showing relationship between two data sets.\n"
   ]
  },
  {
   "cell_type": "markdown",
   "metadata": {},
   "source": [
    "#### Matplotlib\n",
    "* Commonly use a sub-library called matplotlib.pyplot.\n",
    "* The Jupyter Notebook will render plots inline if we ask it to using a “magic” command.\n",
    "* good [explainer for Matplotlib](http://pbpython.com/effective-matplotlib.html)\n"
   ]
  },
  {
   "cell_type": "code",
   "execution_count": null,
   "metadata": {},
   "outputs": [],
   "source": [
    "#inline plotting and importing matplotlib as plt\n",
    "%matplotlib inline\n",
    "import matplotlib.pyplot as plt\n",
    "import pandas as pd\n",
    "from IPython.display import Image"
   ]
  },
  {
   "cell_type": "markdown",
   "metadata": {},
   "source": [
    "### Matplotlib is best run as in object oriented way\n",
    "You will have a figure which is the canvas with the frame. The 'axes' object is the picutre you draw onto the canvas. You can draw multiple pictures aka 'axes' on the same canvas."
   ]
  },
  {
   "cell_type": "code",
   "execution_count": null,
   "metadata": {},
   "outputs": [],
   "source": [
    "#from https://stackoverflow.com/questions/5575451/difference-between-axes-and-axis-in-matplotlib\n",
    "Image(filename='./fig/Fig_axes_in_matplotlib.png')"
   ]
  },
  {
   "cell_type": "code",
   "execution_count": null,
   "metadata": {},
   "outputs": [],
   "source": [
    "#explain fig and ax on the board\n",
    "fig, ax = plt.subplots()\n",
    "time = [0, 1, 2, 3]\n",
    "position = [0, 100, 200, 300]\n",
    "\n",
    "ax.plot(time, position)\n",
    "\n",
    "ax.set_xlabel('Time (hr)')\n",
    "ax.set_ylabel('Position (km)')"
   ]
  },
  {
   "cell_type": "markdown",
   "metadata": {},
   "source": [
    "### Matplotlib can interpret intergers and floats as you would expect\n",
    "If you have a number encoded as a string convert it to a int or float type so it interprets numbers as expected."
   ]
  },
  {
   "cell_type": "code",
   "execution_count": null,
   "metadata": {},
   "outputs": [],
   "source": [
    "#import asia this time\n",
    "asia = \n",
    "\n",
    "#rename the columns and plot with str/strip/astype\n",
    "new_column_name = \n",
    "\n",
    "#rename column header\n",
    "asia_new = "
   ]
  },
  {
   "cell_type": "markdown",
   "metadata": {},
   "source": [
    "### Matplotlib is REALLY finetunable \n",
    "This is its strenght and weakness."
   ]
  },
  {
   "cell_type": "code",
   "execution_count": null,
   "metadata": {},
   "outputs": [],
   "source": [
    "fig, ax = plt.subplots(figsize=(12,12))\n",
    "\n",
    "#plot China as linegraph\n",
    "\n",
    "\n",
    "#set ylabel and tick params. Fontdict and labelsize\n",
    "\n",
    "\n"
   ]
  },
  {
   "cell_type": "markdown",
   "metadata": {},
   "source": [
    "### Matplotlib lets you plot different plot types easily\n",
    "* .plot = lineplot\n",
    "* .bar = bar graph\n",
    "* .scatter = scatter plot\n",
    "* .boxplot = box plots\n",
    "* .violinplot = violin plot\n",
    "* many many more. See gallery [here](https://matplotlib.org/gallery/index.html). "
   ]
  },
  {
   "cell_type": "code",
   "execution_count": null,
   "metadata": {},
   "outputs": [],
   "source": [
    "fig, ax = plt.subplots(figsize=(12,12))\n",
    "\n",
    "#scatter China and Afghanistan in one axes\n",
    "\n",
    "\n",
    "\n",
    "#set y_label as before, tick params and add a legend (prop/size)\n",
    "\n",
    "ax.set_ylabel('GDP per capita', fontdict={'size': 20})\n",
    "ax.tick_params(axis='both', which='major', labelsize=20)\n"
   ]
  },
  {
   "cell_type": "markdown",
   "metadata": {},
   "source": [
    "### Matplotlib has different plotting styles\n"
   ]
  },
  {
   "cell_type": "code",
   "execution_count": null,
   "metadata": {},
   "outputs": [],
   "source": [
    "plt.style.use('ggplot')\n",
    "\n",
    "fig, ax = plt.subplots(figsize=(12,12))\n",
    "\n",
    "#set the size\n",
    "bar_size = \n",
    "\n",
    "#make a bargraph and don't forget to add the size\n",
    "\n",
    "\n",
    "\n",
    "\n",
    "#have same lables again\n",
    "ax.set_ylabel('GDP per capita', fontdict={'size': 20})\n",
    "ax.tick_params(axis='both', which='major', labelsize=20)"
   ]
  },
  {
   "cell_type": "markdown",
   "metadata": {},
   "source": [
    "#### Exercise\n",
    "Copy over the raw text into a new code cell. Fill in the blanks below to plot the minimum and maximum GDP per capita over time for all the countries in Europe. Try to explain what the other bits and pieces do."
   ]
  },
  {
   "cell_type": "raw",
   "metadata": {},
   "source": [
    "data_europe = pd.read_csv('data/gapminder_gdp_europe.csv', index_col='country')\n",
    "\n",
    "fig, ___ = plt.subplots(figsize=(12,12))\n",
    "\n",
    "max_per_year_europe = _____\n",
    "min_per_year_europe = _____\n",
    "\n",
    "years = data_europe.columns.___.strip(___).astype(__)\n",
    "\n",
    "ax.scatter(___,___, label = 'max', s = 30)\n",
    "ax.scatter(____,___, label = 'min', s = 30)\n",
    "\n",
    "ax.legend(loc='best', prop={'size':20})\n",
    "ax.tick_params(axis='x', rotation=90, labelsize=20)\n",
    "ax.tick_params(axis='y', labelsize=20)"
   ]
  },
  {
   "cell_type": "code",
   "execution_count": null,
   "metadata": {},
   "outputs": [],
   "source": []
  },
  {
   "cell_type": "markdown",
   "metadata": {},
   "source": [
    "#### Excercise\n",
    "Modify the example in the notes to create a scatter plot showing the relationship between the minimum and maximum GDP per capita among the countries in Asia for each year in the data set. What relationship do you see (if any)?\n",
    "\n",
    "Start thinking about the following:\n",
    "* Read in the gdp from asia using from_csv\n",
    "* make the the fig, ax using plt.subplots()\n",
    "* calculate min and max for asia over the time using the describe method within the dataframe object. \n",
    "* transpose your dataframe\n",
    "* plot ax.scatter with min and max"
   ]
  },
  {
   "cell_type": "raw",
   "metadata": {},
   "source": [
    "data_asia = ___\n",
    "\n",
    "fig, ax = ___\n",
    "\n",
    "\n",
    "ax.____(____.describe()___, _____)"
   ]
  },
  {
   "cell_type": "code",
   "execution_count": null,
   "metadata": {},
   "outputs": [],
   "source": []
  },
  {
   "cell_type": "markdown",
   "metadata": {},
   "source": [
    "### Matplotlib lets you save files in different formats\n",
    "The figure can be saved with its intrinsic function .savefig. It will save the current figure to file. The file format will automatically be deduced from the file name extension (formats are pdf, ps, eps, png, and svg). You can also adjust the resolution with dpi = ."
   ]
  },
  {
   "cell_type": "code",
   "execution_count": null,
   "metadata": {},
   "outputs": [],
   "source": [
    "fig.savefig('test.png')"
   ]
  },
  {
   "cell_type": "markdown",
   "metadata": {},
   "source": [
    "## Ploting with Seaborn a modern plotting library\n",
    "[Seaborn](https://seaborn.pydata.org/) is a simpler statistical plotting library. \n",
    "\n",
    "This part is based on https://github.com/aspp-apac/2019-data-tidying-and-visualisation\n",
    "\n",
    "\n",
    "Seaborn builds on Matplotlib. Some nice features are:\n",
    "\n",
    "* works directly with Pandas dataframes, concise syntax\n",
    "* lots of plot types, including some more advanced options\n",
    "* statistical plotting: many plots do summary statistics for you\n",
    "* good default aesthetics and easy control of aesthetics\n",
    "* using Matplotlib gives benefits of Matplotlib - many backends, lots of control\n",
    "* underlying Matplotlib objects are easy to tweak directly"
   ]
  },
  {
   "cell_type": "markdown",
   "metadata": {},
   "source": [
    "#### Setup"
   ]
  },
  {
   "cell_type": "code",
   "execution_count": null,
   "metadata": {},
   "outputs": [],
   "source": [
    "import pandas as pd\n",
    "import numpy as np"
   ]
  },
  {
   "cell_type": "markdown",
   "metadata": {},
   "source": [
    "Be aware that Seaborn automatically changes Matplotlib's defaults on import. Not only your Seaborn plots, but also your Matplotlib plots, will look different once Seaborn is imported. If you don't want this behaviour, you can call sns.reset_orig() after import."
   ]
  },
  {
   "cell_type": "code",
   "execution_count": null,
   "metadata": {},
   "outputs": [],
   "source": [
    "import seaborn as sns"
   ]
  },
  {
   "cell_type": "code",
   "execution_count": null,
   "metadata": {},
   "outputs": [],
   "source": [
    "plt.style.use('seaborn')"
   ]
  },
  {
   "cell_type": "code",
   "execution_count": null,
   "metadata": {},
   "outputs": [],
   "source": [
    "sales = pd.read_csv(\"./data/housing-data-10000.csv\", \n",
    "                    usecols=['id','date','price','zipcode','lat','long', 'bedrooms',\n",
    "                                'waterfront','view','grade','sqft_living','sqft_lot'],\n",
    "                    parse_dates=['date'], \n",
    "                    dtype={'zipcode': 'category',\n",
    "                           'waterfront': 'bool'})"
   ]
  },
  {
   "cell_type": "code",
   "execution_count": null,
   "metadata": {},
   "outputs": [],
   "source": [
    "sales.head()"
   ]
  },
  {
   "cell_type": "code",
   "execution_count": null,
   "metadata": {},
   "outputs": [],
   "source": [
    "#head the dataframe"
   ]
  },
  {
   "cell_type": "code",
   "execution_count": null,
   "metadata": {},
   "outputs": [],
   "source": [
    "sales.dtypes"
   ]
  },
  {
   "cell_type": "markdown",
   "metadata": {},
   "source": [
    "Note that as well as specifying that the date field should be parsed as a date, we specified that certain variables are categorical (as opposed to integers). Some plotting commands understand pandas DataFrames and will treat categorical variables differently to numerical variables."
   ]
  },
  {
   "cell_type": "markdown",
   "metadata": {},
   "source": [
    "### Toy data"
   ]
  },
  {
   "cell_type": "code",
   "execution_count": null,
   "metadata": {},
   "outputs": [],
   "source": [
    "trains = pd.read_csv('./data/trains_example.csv')\n",
    "trains"
   ]
  },
  {
   "cell_type": "code",
   "execution_count": null,
   "metadata": {},
   "outputs": [],
   "source": [
    "trains.to_csv('./data/trains_example.csv')"
   ]
  },
  {
   "cell_type": "code",
   "execution_count": null,
   "metadata": {},
   "outputs": [],
   "source": [
    "fig, ax = plt.subplots()\n",
    "\n",
    "#make a barplot with data, x is the engine and y is the speed use ax\n",
    "\n"
   ]
  },
  {
   "cell_type": "markdown",
   "metadata": {},
   "source": [
    "Here Seaborn has interpreted the x and y arguments as field names in the supplied DataFrame. Notice also that Seaborn has performed the summary statistics for us - in this case, using the default estimator, which is mean()."
   ]
  },
  {
   "cell_type": "code",
   "execution_count": null,
   "metadata": {},
   "outputs": [],
   "source": [
    "fig, ax = plt.subplots()\n",
    "\n",
    "#make a barplot with data, x is the engine and y is the speed use ax. Swap x and y."
   ]
  },
  {
   "cell_type": "markdown",
   "metadata": {},
   "source": [
    "Notice also what happens if we simply swap the x and y parameters. Seaborn will automatically deduce that the categorical or string-like variable must be the bar labels, and the numeric variable must be the numeric axis:"
   ]
  },
  {
   "cell_type": "markdown",
   "metadata": {},
   "source": [
    "#### Exercise\n",
    "Create a (vertical) bar plot using the **sales** data, showing how house prices vary with the value of the property grade."
   ]
  },
  {
   "cell_type": "code",
   "execution_count": null,
   "metadata": {},
   "outputs": [],
   "source": [
    "#barplot with x being grade and y being price\n",
    "sns.barplot(data=sales, x='grade', y='price')"
   ]
  },
  {
   "cell_type": "markdown",
   "metadata": {},
   "source": [
    "Bar plots are often deplored as a way of showing statistical estimates, as only the top of the bar is really important, and the bar itself is a visual distraction. A point plot is an alternative, and plots like box plots can show more information. Several other plot types also show distributional information within categories.\n",
    "\n"
   ]
  },
  {
   "cell_type": "markdown",
   "metadata": {},
   "source": [
    "#### Exercise: \n",
    "\n",
    "reproduce the plot you just made, using instead each of the Seaborn functions:\n",
    "\n",
    "* pointplot()\n",
    "* boxplot()\n",
    "* violinplot() (try the scale parameter)\n",
    "* boxenplot()\n",
    "* stripplot() [SEE WARNING] (try the jitter parameter)\n",
    "* swarmplot() [SEE WARNING]\n",
    "Note what sort of information about the distribution is shown by each.\n",
    "\n",
    "WARNING: stripplot() and swarmplot() will plot individual data points. There are too many house sales to easily display in this way - you may want to subsample the dataframe with e.g.  data=sales.sample(100)."
   ]
  },
  {
   "cell_type": "raw",
   "metadata": {},
   "source": [
    "#swarm plot with downsampling (own note think groupby)\n",
    "sns.swarmplot(___=sales.sample(500),___, ___)"
   ]
  },
  {
   "cell_type": "markdown",
   "metadata": {},
   "source": [
    "Let's try making a horizontal bar plot of price against grade by putting grade on the y axis:"
   ]
  },
  {
   "cell_type": "code",
   "execution_count": 4,
   "metadata": {},
   "outputs": [
    {
     "name": "stderr",
     "output_type": "stream",
     "text": [
      "/Users/benjamin/anaconda3/lib/python3.7/site-packages/scipy/stats/stats.py:1713: FutureWarning: Using a non-tuple sequence for multidimensional indexing is deprecated; use `arr[tuple(seq)]` instead of `arr[seq]`. In the future this will be interpreted as an array index, `arr[np.array(seq)]`, which will result either in an error or a different result.\n",
      "  return np.add.reduce(sorted[indexer] * weights, axis=axis) / sumval\n"
     ]
    },
    {
     "data": {
      "text/plain": [
       "<matplotlib.axes._subplots.AxesSubplot at 0x1a152c52e8>"
      ]
     },
     "execution_count": 4,
     "metadata": {},
     "output_type": "execute_result"
    },
    {
     "data": {
      "image/png": "[encoded data removed]",
      "text/plain": [
       "<Figure size 432x288 with 1 Axes>"
      ]
     },
     "metadata": {
      "needs_background": "light"
     },
     "output_type": "display_data"
    }
   ],
   "source": [
    "# WARNING: \n",
    "# Do not rerun this cell without modifying it!\n",
    "# It will take a long time to run.\n",
    "sns.barplot(data=sales, x='price', y='grade')"
   ]
  },
  {
   "cell_type": "markdown",
   "metadata": {},
   "source": [
    "#### Questions:\n",
    "\n",
    "* What went wrong here?\n",
    "* Can you fix it? (There are at least two sensible approaches.)\n",
    "\n",
    "\n"
   ]
  },
  {
   "cell_type": "code",
   "execution_count": null,
   "metadata": {},
   "outputs": [],
   "source": [
    "#look at what type grade is using info\n",
    "sales.info()"
   ]
  },
  {
   "cell_type": "code",
   "execution_count": null,
   "metadata": {},
   "outputs": [],
   "source": [
    "#horizontal bargraph does the magic\n",
    "sns.barplot(data=sales, x='price', y='grade', orient='h')"
   ]
  },
  {
   "cell_type": "code",
   "execution_count": null,
   "metadata": {},
   "outputs": [],
   "source": [
    "#make a copy of dataframe and fix the grade type with astype\n",
    "sales_fixed = \n",
    "sales_fixed['grade'] = \n",
    "\n",
    "sns.barplot(data=sales_fixed, x='price', y='grade')"
   ]
  },
  {
   "cell_type": "markdown",
   "metadata": {},
   "source": [
    "### Hue\n",
    "Many Seaborn plotting functions take a hue parameter. This colours the plot elements by some categorical variable, but more than this, summary statistics are calculated for each level of the hue variable."
   ]
  },
  {
   "cell_type": "code",
   "execution_count": null,
   "metadata": {},
   "outputs": [],
   "source": [
    "#look at the head of trains"
   ]
  },
  {
   "cell_type": "code",
   "execution_count": null,
   "metadata": {},
   "outputs": [],
   "source": [
    "# It appears that my hypothesis that more wheels make you faster is flawed\n",
    "#use lmplot x wheels and y top speed, use hue for engine type data is trains\n",
    "\n"
   ]
  },
  {
   "cell_type": "markdown",
   "metadata": {},
   "source": [
    "#### Excerises\n",
    "* Create an lmplot of house price against living area. Do this without a hue parameter, then add in waterfront as the hue parameter. What information is the hue giving in this case?\n",
    "* Later on play around. Try adding the hue parameter to one of your previous plots of some other type - for instance, a box plot."
   ]
  },
  {
   "cell_type": "raw",
   "metadata": {},
   "source": [
    "sns.lmplot(data=sales, x=____, y=____, hue=____)"
   ]
  },
  {
   "cell_type": "code",
   "execution_count": null,
   "metadata": {},
   "outputs": [],
   "source": []
  },
  {
   "cell_type": "markdown",
   "metadata": {},
   "source": [
    "#### How to save figures that are 'real' seaborn objects"
   ]
  },
  {
   "cell_type": "code",
   "execution_count": null,
   "metadata": {},
   "outputs": [],
   "source": [
    "g = sns.lmplot(data=sales, x='sqft_living', y='price', hue='waterfront')\n",
    "g.savefig('limplot.png')"
   ]
  },
  {
   "cell_type": "markdown",
   "metadata": {},
   "source": [
    "### Extra material below"
   ]
  },
  {
   "cell_type": "markdown",
   "metadata": {},
   "source": [
    "#### Compound plots\n",
    "\n",
    "Seaborn has some plotting functions which create more complex figures made of multiple subplots. These include pairplot(), catplot(), jointplot(), lmplot() and clustermap(). Let's see a few examples:"
   ]
  },
  {
   "cell_type": "code",
   "execution_count": null,
   "metadata": {},
   "outputs": [],
   "source": [
    "# jointplot shows a scatter or density plot, with marginal distributions\n",
    "sns.jointplot(data=sales, x='sqft_living', y='price') #, kind='reg')"
   ]
  },
  {
   "cell_type": "code",
   "execution_count": null,
   "metadata": {},
   "outputs": [],
   "source": [
    "\n",
    "# pairplot shows pairwise relationships between variables\n",
    "# Note that a variable like engine_type would be ignored as it is not numeric\n",
    "sns.pairplot(data=trains[['wheels', 'top_speed_mph', 'weight_tons']])\n",
    "\n"
   ]
  },
  {
   "cell_type": "code",
   "execution_count": null,
   "metadata": {},
   "outputs": [],
   "source": [
    "# catplot conditions different subplots on different variable values\n",
    "# we map variables to row and column of a grid of plots (as well as to hue)\n",
    "# in this example, we just use columns, and so have only one row\n",
    "sns.catplot(data=trains, kind='bar',\n",
    "               x='size', y='top_speed_mph', \n",
    "               col='engine_type')"
   ]
  },
  {
   "cell_type": "markdown",
   "metadata": {},
   "source": [
    "#### Exercise: \n",
    "design a plot using sns.catplot, to show the relationship between house price and (at least): grade, waterfront, and view. Available channels of information are:\n",
    "\n",
    "* x and y coordinates\n",
    "* hue\n",
    "* row and column of subplot (row and col)\n",
    "\n",
    "You do not have to use all of these channels - in fact your plot may be difficult to take in if you do.\n",
    "\n",
    "You can set the kind parameter to the kind of plot you want to make: point, bar, count, box, violin, and strip.\n",
    "\n",
    "You can control the size of the overall figure with size and aspect."
   ]
  },
  {
   "cell_type": "code",
   "execution_count": null,
   "metadata": {},
   "outputs": [],
   "source": [
    "# One option\n",
    "sns.catplot(data=sales, y='price', x='grade', row='view', hue='waterfront', kind='violin',\n",
    "               kwargs={'scale':'width'}, size=2, aspect=3)"
   ]
  },
  {
   "cell_type": "markdown",
   "metadata": {},
   "source": [
    "#### Additional examples"
   ]
  },
  {
   "cell_type": "markdown",
   "metadata": {},
   "source": [
    "* How to get a dataframe generated from a string within the notebook"
   ]
  },
  {
   "cell_type": "code",
   "execution_count": null,
   "metadata": {},
   "outputs": [],
   "source": [
    "from io import StringIO\n",
    "\n",
    "data_string = \"\"\"name\tnumber\tengine_type\tcolour\twheels\ttop_speed_mph\tweight_tons\n",
    "Thomas\t1\tTank\tBlue\t6\t40\t52\n",
    "Edward\t2\tTender\tBlue\t14\t70\t41\n",
    "Henry\t3\tTender\tGreen\t18\t90\t72.2\n",
    "Gordon\t4\tTender\tBlue\t18\t100\t91.35\n",
    "James\t5\tTender\tRed\t14\t70\t46\n",
    "Percy\t6\tTank\tGreen\t4\t40\t22.85\n",
    "Toby\t7\tTank\tBrown\t6\t20\t27\n",
    "Emily\t12\tTender\tGreen\t8\t85\t45\n",
    "Rosie\t37\tTank\tPurple\t6\t65\t37\n",
    "Hiro\t51\tTender\tBlack\t20\t55\t76.8\"\"\"\n",
    "\n",
    "trains = pd.read_table(StringIO(data_string))\n",
    "trains['size'] = pd.cut(trains['weight_tons'], 3, labels=['Small','Medium','Big'])"
   ]
  },
  {
   "cell_type": "markdown",
   "metadata": {},
   "source": [
    "* How to annotate a plot and use 'seaborn' graph objects with matplotlib"
   ]
  },
  {
   "cell_type": "code",
   "execution_count": null,
   "metadata": {},
   "outputs": [],
   "source": [
    "#to show what you can do with matplotlib\n",
    "df = pd.DataFrame({\n",
    "    'Time': [1,2,3,4,5],\n",
    "    'Projected': [2,5,10,17,26],\n",
    "    'Actual': [1,4,9,11,9]\n",
    "})\n",
    "\n",
    "fig, ax = plt.subplots()\n",
    "sns.scatterplot(data=df, x='Time', y='Actual', color='red', ax=ax)\n",
    "sns.lineplot(data=df, x='Time', y='Projected', color='blue', ax=ax)\n",
    "\n",
    "ax.set_ylabel('Huge profits')\n",
    "\n",
    "ax.annotate(\"where it all went wrong\", \n",
    "                                 xy=(3,10), xytext=(1,12),\n",
    "                                 arrowprops={'width':2})"
   ]
  }
 ],
 "metadata": {
  "kernelspec": {
   "display_name": "Python 3",
   "language": "python",
   "name": "python3"
  },
  "language_info": {
   "codemirror_mode": {
    "name": "ipython",
    "version": 3
   },
   "file_extension": ".py",
   "mimetype": "text/x-python",
   "name": "python",
   "nbconvert_exporter": "python",
   "pygments_lexer": "ipython3",
   "version": "3.7.1"
  }
 },
 "nbformat": 4,
 "nbformat_minor": 2
}
