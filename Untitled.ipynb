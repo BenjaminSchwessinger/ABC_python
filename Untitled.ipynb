{
 "cells": [
  {
   "cell_type": "code",
   "execution_count": 1,
   "metadata": {},
   "outputs": [],
   "source": [
    "import statistics\n",
    "import numpy"
   ]
  },
  {
   "cell_type": "code",
   "execution_count": 2,
   "metadata": {},
   "outputs": [],
   "source": [
    "seqs = \"AAAATGCGCGTTATACAG\", \\\n",
    "\"TATAATGCGCGCGGGGATACAG\", \\\n",
    "\"CGCGCATGATATATGCGTATATA\""
   ]
  },
  {
   "cell_type": "code",
   "execution_count": 4,
   "metadata": {},
   "outputs": [
    {
     "name": "stdout",
     "output_type": "stream",
     "text": [
      "       AAAATGCGCGTTATACAG\n",
      "      TATAATGCGCGCGGGGATACAG\n",
      "     CGCGCATGATATATGCGTATATA\n"
     ]
    }
   ],
   "source": [
    "motif = \"ATG\"\n",
    "prefixlen = 10 # max. length for prefix!\n",
    "# align motifs in the sequences\n",
    "for seq in seqs:\n",
    "# calculate the number of leading spaces\n",
    "    n = seq.find(motif)\n",
    "    assert n>=0\n",
    "    print(' '*(prefixlen-n)+seq)"
   ]
  },
  {
   "cell_type": "code",
   "execution_count": 7,
   "metadata": {},
   "outputs": [
    {
     "name": "stdout",
     "output_type": "stream",
     "text": [
      "          ***\n",
      "       AAAATGCGCGTTATACAG\n",
      "      TATAATGCGCGCGGGGATACAG\n",
      "          ***\n",
      "     CGCGCATGATATATGCGTATATA\n",
      "          ***\n"
     ]
    }
   ],
   "source": [
    "motif, prefixlen = \"ATG\" , int(10)\n",
    "header = ' '*prefixlen + '*'*len(motif)\n",
    "sepno = 2 # bigger number if there are more records\n",
    "lineno = 0 # no. lines printed so far – invariant!\n",
    "for seq in seqs:\n",
    "    if lineno%sepno == 0:\n",
    "        print(header)\n",
    "    print(' '*(prefixlen-seq.find(motif))+seq)\n",
    "    lineno = lineno + 1 # maintain invariant!\n",
    "print(header)"
   ]
  },
  {
   "cell_type": "code",
   "execution_count": 11,
   "metadata": {},
   "outputs": [
    {
     "name": "stdout",
     "output_type": "stream",
     "text": [
      "       AAA ATG CGCGTTATACAG\n",
      "      TATA ATG CGCGCGGGGATACAG\n",
      "     CGCGC ATG ATATATGCGTATATA\n"
     ]
    }
   ],
   "source": [
    "for seq in seqs:\n",
    "    p1, p2 = seq.split(motif, 1) # before & after\n",
    "    print(p1.rjust(prefixlen), motif, p2)"
   ]
  },
  {
   "cell_type": "code",
   "execution_count": 15,
   "metadata": {},
   "outputs": [
    {
     "name": "stdout",
     "output_type": "stream",
     "text": [
      "3\n",
      "4\n",
      "5\n"
     ]
    }
   ],
   "source": [
    "motif, prefixlen = \"ATG\", 0\n",
    "for seq in seqs:\n",
    "    plen = seq.find(motif)\n",
    "    assert not plen<0, \"No motif in sequence: \"+seq\n",
    "    prefixlen = max(prefixlen, plen)\n",
    "    print(prefixlen)"
   ]
  },
  {
   "cell_type": "code",
   "execution_count": 17,
   "metadata": {},
   "outputs": [
    {
     "name": "stdout",
     "output_type": "stream",
     "text": [
      "[18, 15, 6, 88, 94]\n",
      "[8, 5, 6, 8, 4]\n",
      "max. lastdigit is 8\n"
     ]
    }
   ],
   "source": [
    "import random\n",
    "def getmod10(n):\n",
    "    return n%10\n",
    "rx = []\n",
    "while len(rx)<5:\n",
    "    rx.append(int(random.random()*100))\n",
    "print(rx)\n",
    "tmp = map(getmod10, rx)\n",
    "lastdigits = list(tmp)\n",
    "print(lastdigits)\n",
    "print('max. lastdigit is', max(lastdigits))"
   ]
  },
  {
   "cell_type": "code",
   "execution_count": 18,
   "metadata": {},
   "outputs": [],
   "source": [
    "import os"
   ]
  },
  {
   "cell_type": "code",
   "execution_count": 19,
   "metadata": {},
   "outputs": [
    {
     "data": {
      "text/plain": [
       "'/Users/benjamin/Documents/own_lab/teaching/2019/ABC_python/notebooks'"
      ]
     },
     "execution_count": 19,
     "metadata": {},
     "output_type": "execute_result"
    }
   ],
   "source": [
    "os.path.abspath('.')"
   ]
  },
  {
   "cell_type": "code",
   "execution_count": 22,
   "metadata": {},
   "outputs": [
    {
     "name": "stdout",
     "output_type": "stream",
     "text": [
      "0 - A\n",
      "1 - B\n",
      "2 - C\n",
      "3 - D\n",
      "1 - B\n",
      "2 - C\n"
     ]
    }
   ],
   "source": [
    "xstr = \"ABCD\"\n",
    "for i, c in enumerate(xstr):\n",
    "    print(i, \"-\", c)\n",
    "for i in range(1, len(xstr)-1): # part of xstr\n",
    "    print(i, \"-\", xstr[i])"
   ]
  },
  {
   "cell_type": "code",
   "execution_count": 24,
   "metadata": {},
   "outputs": [
    {
     "data": {
      "text/plain": [
       "[1, 3, 5, 7, 9, 11, 13, 15, 17, 19]"
      ]
     },
     "execution_count": 24,
     "metadata": {},
     "output_type": "execute_result"
    }
   ],
   "source": [
    "def odd(x):\n",
    "    return bool(x%2)\n",
    "list(filter(odd, range(20)))"
   ]
  },
  {
   "cell_type": "code",
   "execution_count": 26,
   "metadata": {},
   "outputs": [
    {
     "name": "stdout",
     "output_type": "stream",
     "text": [
      "Counter({'i': 4, 's': 4, 'p': 2, 'm': 1})\n"
     ]
    }
   ],
   "source": [
    "import collections\n",
    "river = \"Mississippi\"\n",
    "rx = collections.Counter(river.lower())\n",
    "print(rx)"
   ]
  },
  {
   "cell_type": "code",
   "execution_count": 27,
   "metadata": {},
   "outputs": [],
   "source": [
    "cx = collections.Counter(seq)"
   ]
  },
  {
   "cell_type": "code",
   "execution_count": 28,
   "metadata": {},
   "outputs": [
    {
     "data": {
      "text/plain": [
       "Counter({'C': 4, 'G': 5, 'A': 7, 'T': 7})"
      ]
     },
     "execution_count": 28,
     "metadata": {},
     "output_type": "execute_result"
    }
   ],
   "source": [
    "cx"
   ]
  },
  {
   "cell_type": "code",
   "execution_count": 29,
   "metadata": {},
   "outputs": [
    {
     "name": "stdout",
     "output_type": "stream",
     "text": [
      "/Users/benjamin/Documents/own_lab/teaching/2019/ABC_python/notebooks\r\n"
     ]
    }
   ],
   "source": [
    "!pwd"
   ]
  },
  {
   "cell_type": "code",
   "execution_count": 31,
   "metadata": {},
   "outputs": [],
   "source": [
    "fn = '../abc-python-final-code/seqs.txt'\n",
    "with open(fn) as src:\n",
    "    cs = (c for r in src for c in r.rstrip())\n",
    "    cx = collections.Counter(cs)"
   ]
  },
  {
   "cell_type": "code",
   "execution_count": 33,
   "metadata": {},
   "outputs": [
    {
     "name": "stdout",
     "output_type": "stream",
     "text": [
      "Counter({'A': 20, 'G': 17, 'T': 15, 'C': 11})\n"
     ]
    }
   ],
   "source": [
    "print(cx)"
   ]
  },
  {
   "cell_type": "code",
   "execution_count": 34,
   "metadata": {},
   "outputs": [
    {
     "data": {
      "text/plain": [
       "1.5873015873015872"
      ]
     },
     "execution_count": 34,
     "metadata": {},
     "output_type": "execute_result"
    }
   ],
   "source": [
    "100/sum(cx.values())"
   ]
  },
  {
   "cell_type": "code",
   "execution_count": 36,
   "metadata": {},
   "outputs": [
    {
     "name": "stdout",
     "output_type": "stream",
     "text": [
      "GCG - 7\n",
      "ATA - 7\n",
      "TAT - 6\n",
      "CGC - 5\n",
      "ATG - 4\n"
     ]
    }
   ],
   "source": [
    "import collections\n",
    "def kmers(sraw, k):\n",
    "    s = sraw.rstrip()\n",
    "    return (s[i:i+k] for i in range(len(s)-k+1))\n",
    "with open(fn) as src:\n",
    "    ks = (x for r in src for x in kmers(r, 3))\n",
    "    cx = collections.Counter(ks)\n",
    "for kmer, kcnt in cx.most_common(5):\n",
    "    print(kmer, \"-\", kcnt)"
   ]
  },
  {
   "cell_type": "code",
   "execution_count": 37,
   "metadata": {},
   "outputs": [],
   "source": [
    "import pandas as pd"
   ]
  },
  {
   "cell_type": "code",
   "execution_count": 38,
   "metadata": {},
   "outputs": [
    {
     "data": {
      "text/html": [
       "<div>\n",
       "<style scoped>\n",
       "    .dataframe tbody tr th:only-of-type {\n",
       "        vertical-align: middle;\n",
       "    }\n",
       "\n",
       "    .dataframe tbody tr th {\n",
       "        vertical-align: top;\n",
       "    }\n",
       "\n",
       "    .dataframe thead th {\n",
       "        text-align: right;\n",
       "    }\n",
       "</style>\n",
       "<table border=\"1\" class=\"dataframe\">\n",
       "  <thead>\n",
       "    <tr style=\"text-align: right;\">\n",
       "      <th></th>\n",
       "      <th>Sample</th>\n",
       "      <th>Width</th>\n",
       "      <th>Length</th>\n",
       "      <th>Location</th>\n",
       "    </tr>\n",
       "  </thead>\n",
       "  <tbody>\n",
       "    <tr>\n",
       "      <th>0</th>\n",
       "      <td>a1</td>\n",
       "      <td>33</td>\n",
       "      <td>121</td>\n",
       "      <td>S-42.1E174</td>\n",
       "    </tr>\n",
       "    <tr>\n",
       "      <th>1</th>\n",
       "      <td>a2</td>\n",
       "      <td>27</td>\n",
       "      <td>136</td>\n",
       "      <td>S-42.1E174</td>\n",
       "    </tr>\n",
       "    <tr>\n",
       "      <th>2</th>\n",
       "      <td>b1</td>\n",
       "      <td>31</td>\n",
       "      <td>78</td>\n",
       "      <td>S-35E177</td>\n",
       "    </tr>\n",
       "    <tr>\n",
       "      <th>3</th>\n",
       "      <td>b2</td>\n",
       "      <td>34</td>\n",
       "      <td>65</td>\n",
       "      <td>S-35E177</td>\n",
       "    </tr>\n",
       "    <tr>\n",
       "      <th>4</th>\n",
       "      <td>c1</td>\n",
       "      <td>12</td>\n",
       "      <td>78</td>\n",
       "      <td>S-45E171</td>\n",
       "    </tr>\n",
       "    <tr>\n",
       "      <th>5</th>\n",
       "      <td>c2</td>\n",
       "      <td>27</td>\n",
       "      <td>104</td>\n",
       "      <td>S-45E171</td>\n",
       "    </tr>\n",
       "    <tr>\n",
       "      <th>6</th>\n",
       "      <td>c3</td>\n",
       "      <td>28</td>\n",
       "      <td>1119</td>\n",
       "      <td>S-45E171</td>\n",
       "    </tr>\n",
       "  </tbody>\n",
       "</table>\n",
       "</div>"
      ],
      "text/plain": [
       "  Sample  Width  Length    Location\n",
       "0     a1     33     121  S-42.1E174\n",
       "1     a2     27     136  S-42.1E174\n",
       "2     b1     31      78    S-35E177\n",
       "3     b2     34      65    S-35E177\n",
       "4     c1     12      78    S-45E171\n",
       "5     c2     27     104    S-45E171\n",
       "6     c3     28    1119    S-45E171"
      ]
     },
     "execution_count": 38,
     "metadata": {},
     "output_type": "execute_result"
    }
   ],
   "source": [
    "pd.read_excel('../abc-python-final-code/leaf_data.xlsx')"
   ]
  },
  {
   "cell_type": "code",
   "execution_count": 39,
   "metadata": {},
   "outputs": [],
   "source": [
    "pd.read_csv?"
   ]
  },
  {
   "cell_type": "code",
   "execution_count": null,
   "metadata": {},
   "outputs": [],
   "source": []
  }
 ],
 "metadata": {
  "kernelspec": {
   "display_name": "Python 3",
   "language": "python",
   "name": "python3"
  },
  "language_info": {
   "codemirror_mode": {
    "name": "ipython",
    "version": 3
   },
   "file_extension": ".py",
   "mimetype": "text/x-python",
   "name": "python",
   "nbconvert_exporter": "python",
   "pygments_lexer": "ipython3",
   "version": "3.7.1"
  }
 },
 "nbformat": 4,
 "nbformat_minor": 2
}
